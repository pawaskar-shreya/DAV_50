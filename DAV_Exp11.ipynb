{
  "nbformat": 4,
  "nbformat_minor": 0,
  "metadata": {
    "colab": {
      "provenance": [],
      "authorship_tag": "ABX9TyMJNessf57GbGlYya3JMa7D",
      "include_colab_link": true
    },
    "kernelspec": {
      "name": "python3",
      "display_name": "Python 3"
    },
    "language_info": {
      "name": "python"
    }
  },
  "cells": [
    {
      "cell_type": "markdown",
      "metadata": {
        "id": "view-in-github",
        "colab_type": "text"
      },
      "source": [
        "<a href=\"https://colab.research.google.com/github/shreya172003/DAV_50/blob/main/DAV_Exp11.ipynb\" target=\"_parent\"><img src=\"https://colab.research.google.com/assets/colab-badge.svg\" alt=\"Open In Colab\"/></a>"
      ]
    },
    {
      "cell_type": "markdown",
      "source": [
        "**Explore Data Visualization libraries in Python and R**"
      ],
      "metadata": {
        "id": "Hq-wCyLJME00"
      }
    },
    {
      "cell_type": "markdown",
      "source": [
        "Python Libraries : Matplotlib, Seaborn, Plotnine(ggplot), Bokeh, pygal, Plotly, geoplotlib, Gleam, missingno, Leather, Altair, Folium"
      ],
      "metadata": {
        "id": "ZbHYP8ywMVIb"
      }
    },
    {
      "cell_type": "code",
      "execution_count": null,
      "metadata": {
        "id": "dBSTxOJ1L_Fi"
      },
      "outputs": [],
      "source": []
    },
    {
      "cell_type": "markdown",
      "source": [
        "R Libararies : ggplot2, Lattice, highcharter, Leaflet, RColorBrewer, Plotly, sunburstR, RGL, dygraphs"
      ],
      "metadata": {
        "id": "u8CB6tu6MaNj"
      }
    },
    {
      "cell_type": "code",
      "source": [],
      "metadata": {
        "id": "wqYfIpKXMeEi"
      },
      "execution_count": null,
      "outputs": []
    }
  ]
}